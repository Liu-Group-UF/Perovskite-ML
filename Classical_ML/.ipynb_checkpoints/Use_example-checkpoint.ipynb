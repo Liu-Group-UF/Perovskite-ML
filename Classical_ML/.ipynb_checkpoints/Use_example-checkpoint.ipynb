{
 "cells": [
  {
   "cell_type": "code",
   "execution_count": 2,
   "id": "f731aad9",
   "metadata": {},
   "outputs": [],
   "source": [
    "!python generate_atom_json_file.py"
   ]
  },
  {
   "cell_type": "code",
   "execution_count": 33,
   "id": "b3e1d0d5",
   "metadata": {},
   "outputs": [
    {
     "name": "stdout",
     "output_type": "stream",
     "text": [
      "usage: feature_generation.py [-h] [-d]\r\n",
      "\r\n",
      "Generate features for classical machine learning models for differenrt\r\n",
      "databases\r\n",
      "\r\n",
      "optional arguments:\r\n",
      "  -h, --help        show this help message and exit\r\n",
      "  -d , --database   database to use, i.e., MP, OQMD, CMR\r\n"
     ]
    }
   ],
   "source": [
    "!python feature_generation.py -h"
   ]
  },
  {
   "cell_type": "code",
   "execution_count": 1,
   "id": "26f8e35c",
   "metadata": {},
   "outputs": [],
   "source": [
    "!python feature_generation.py -d OQMD"
   ]
  },
  {
   "cell_type": "code",
   "execution_count": 35,
   "id": "3c1a7a4e",
   "metadata": {},
   "outputs": [
    {
     "name": "stdout",
     "output_type": "stream",
     "text": [
      "/Users/jirui/opt/anaconda3/envs/eel5840/lib/python3.8/site-packages/pymatgen/io/cif.py:1145: UserWarning: Issues encountered while parsing CIF: Some fractional coordinates rounded to ideal values to avoid issues with finite precision.\r\n",
      "  warnings.warn(\"Issues encountered while parsing CIF: \" + \"\\n\".join(self.warnings))\r\n"
     ]
    }
   ],
   "source": [
    "!python feature_generation.py -d CMR"
   ]
  },
  {
   "cell_type": "code",
   "execution_count": null,
   "id": "55a4ee72",
   "metadata": {},
   "outputs": [],
   "source": []
  }
 ],
 "metadata": {
  "kernelspec": {
   "display_name": "Python 3 (ipykernel)",
   "language": "python",
   "name": "python3"
  },
  "language_info": {
   "codemirror_mode": {
    "name": "ipython",
    "version": 3
   },
   "file_extension": ".py",
   "mimetype": "text/x-python",
   "name": "python",
   "nbconvert_exporter": "python",
   "pygments_lexer": "ipython3",
   "version": "3.8.13"
  },
  "toc": {
   "base_numbering": 1,
   "nav_menu": {},
   "number_sections": true,
   "sideBar": true,
   "skip_h1_title": false,
   "title_cell": "Table of Contents",
   "title_sidebar": "Contents",
   "toc_cell": false,
   "toc_position": {},
   "toc_section_display": true,
   "toc_window_display": false
  }
 },
 "nbformat": 4,
 "nbformat_minor": 5
}

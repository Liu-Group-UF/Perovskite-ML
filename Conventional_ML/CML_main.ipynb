{
 "cells": [
  {
   "attachments": {},
   "cell_type": "markdown",
   "id": "36f5519e",
   "metadata": {},
   "source": [
    "# 1. Feature generation"
   ]
  },
  {
   "attachments": {},
   "cell_type": "markdown",
   "id": "870edfb2",
   "metadata": {},
   "source": [
    "## 1.1 Generate a feature json file\n",
    "`This json file contains 9 atomic features for number 1-100 elements in periodic table.`"
   ]
  },
  {
   "cell_type": "code",
   "execution_count": 1,
   "id": "f731aad9",
   "metadata": {},
   "outputs": [],
   "source": [
    "!python generate_atom_feature_json_file.py"
   ]
  },
  {
   "attachments": {},
   "cell_type": "markdown",
   "id": "22d36290",
   "metadata": {},
   "source": [
    "## 1.2 Generate features for different datasets"
   ]
  },
  {
   "cell_type": "code",
   "execution_count": 2,
   "id": "b3e1d0d5",
   "metadata": {},
   "outputs": [
    {
     "name": "stdout",
     "output_type": "stream",
     "text": [
      "usage: feature_generation.py [-h] [-d]\r\n",
      "\r\n",
      "Generate features for classical machine learning models for differenrt\r\n",
      "databases\r\n",
      "\r\n",
      "optional arguments:\r\n",
      "  -h, --help        show this help message and exit\r\n",
      "  -d , --database   database to use, i.e., MP, OQMD, CMR\r\n"
     ]
    }
   ],
   "source": [
    "# help function\n",
    "!python feature_generation.py -h"
   ]
  },
  {
   "cell_type": "code",
   "execution_count": 4,
   "id": "17386247",
   "metadata": {},
   "outputs": [],
   "source": [
    "# get feature for MP database\n",
    "!python feature_generation.py -d MP"
   ]
  },
  {
   "cell_type": "code",
   "execution_count": 5,
   "id": "26f8e35c",
   "metadata": {},
   "outputs": [],
   "source": [
    "# get feature for OQMD database\n",
    "!python feature_generation.py -d OQMD"
   ]
  },
  {
   "cell_type": "code",
   "execution_count": 6,
   "id": "3c1a7a4e",
   "metadata": {},
   "outputs": [
    {
     "name": "stdout",
     "output_type": "stream",
     "text": [
      "/Users/jirui/opt/anaconda3/envs/eel5840/lib/python3.8/site-packages/pymatgen/io/cif.py:1145: UserWarning: Issues encountered while parsing CIF: Some fractional coordinates rounded to ideal values to avoid issues with finite precision.\r\n",
      "  warnings.warn(\"Issues encountered while parsing CIF: \" + \"\\n\".join(self.warnings))\r\n"
     ]
    }
   ],
   "source": [
    "# get feature for CMR database\n",
    "!python feature_generation.py -d CMR"
   ]
  },
  {
   "attachments": {},
   "cell_type": "markdown",
   "id": "2cd18260",
   "metadata": {},
   "source": [
    "# 2. Applying CML model"
   ]
  },
  {
   "cell_type": "code",
   "execution_count": null,
   "id": "73aadac3",
   "metadata": {},
   "outputs": [],
   "source": []
  },
  {
   "cell_type": "code",
   "execution_count": 7,
   "id": "a036ca5f",
   "metadata": {},
   "outputs": [
    {
     "name": "stdout",
     "output_type": "stream",
     "text": [
      "Fitting 9 folds for each of 8 candidates, totalling 72 fits\n",
      "----------------------\n",
      "RandomForestRegressor(n_estimators=300, random_state=42)\n",
      "best parameters: {'n_estimators': 300}\n",
      "----------------------\n",
      "train r2_score= 0.9921821470194776\n",
      "test r2_score= 0.9089701621632682\n",
      "rmse= 0.37837923756647424\n",
      "mse= 0.14317084742138633\n",
      "mae= 0.22229674162529278\n",
      "cross_val: mean= 0.08693376721705529 , std= 0.023061358388666766\n",
      "predict time: 0.06 seconds\n",
      "total time: 485.91 seconds\n",
      "model_train_mp_fm.py:132: FutureWarning: The frame.append method is deprecated and will be removed from pandas in a future version. Use pandas.concat instead.\n",
      "  score_models = score_models.append(cv_score)\n",
      "Fitting 9 folds for each of 8 candidates, totalling 72 fits\n",
      "----------------------\n",
      "GradientBoostingRegressor(n_estimators=400, random_state=42)\n",
      "best parameters: {'n_estimators': 400}\n",
      "----------------------\n",
      "train r2_score= 0.9923983773266188\n",
      "test r2_score= 0.9296502662206875\n",
      "rmse= 0.3326340031099224\n",
      "mse= 0.11064538002493188\n",
      "mae= 0.19020592322161495\n",
      "cross_val: mean= 0.05317849636487323 , std= 0.015848227016051944\n",
      "predict time: 0.01 seconds\n",
      "total time: 245.90 seconds\n",
      "model_train_mp_fm.py:154: FutureWarning: The frame.append method is deprecated and will be removed from pandas in a future version. Use pandas.concat instead.\n",
      "  score_models = score_models.append(cv_score)\n",
      "Fitting 9 folds for each of 8 candidates, totalling 72 fits\n",
      "----------------------\n",
      "LGBMRegressor(n_estimators=400, random_state=42)\n",
      "best parameters: {'n_estimators': 400}\n",
      "----------------------\n",
      "train r2_score= 0.9994801372129679\n",
      "test r2_score= 0.9414145340288665\n",
      "rmse= 0.3035500840731009\n",
      "mse= 0.09214265354078663\n",
      "mae= 0.16633791773463644\n",
      "cross_val: mean= 0.04603930063728695 , std= 0.015437482061105675\n",
      "predict time: 0.02 seconds\n",
      "total time: 26.37 seconds\n",
      "model_train_mp_fm.py:178: FutureWarning: The frame.append method is deprecated and will be removed from pandas in a future version. Use pandas.concat instead.\n",
      "  score_models = score_models.append(cv_score)\n",
      "Fitting 9 folds for each of 8 candidates, totalling 72 fits\n",
      "----------------------\n",
      "XGBRegressor(base_score=0.5, booster='gbtree', callbacks=None,\n",
      "             colsample_bylevel=1, colsample_bynode=1, colsample_bytree=1,\n",
      "             early_stopping_rounds=None, enable_categorical=False,\n",
      "             eval_metric=None, feature_types=None, gamma=0, gpu_id=-1,\n",
      "             grow_policy='depthwise', importance_type=None,\n",
      "             interaction_constraints='', learning_rate=0.300000012, max_bin=256,\n",
      "             max_cat_threshold=64, max_cat_to_onehot=4, max_delta_step=0,\n",
      "             max_depth=6, max_leaves=0, min_child_weight=1, missing=nan,\n",
      "             monotone_constraints='()', n_estimators=300, n_jobs=0,\n",
      "             num_parallel_tree=1, predictor='auto', random_state=42, ...)\n",
      "best parameters: {'n_estimators': 300}\n",
      "----------------------\n",
      "train r2_score= 0.9999973078313908\n",
      "test r2_score= 0.944638498042157\n",
      "rmse= 0.29507970814914336\n",
      "mse= 0.08707203416138364\n",
      "mae= 0.17541422532650428\n",
      "cross_val: mean= 0.06259697642652644 , std= 0.019110369071335887\n",
      "predict time: 0.00 seconds\n",
      "total time: 41.50 seconds\n",
      "model_train_mp_fm.py:200: FutureWarning: The frame.append method is deprecated and will be removed from pandas in a future version. Use pandas.concat instead.\n",
      "  score_models = score_models.append(cv_score)\n",
      "\u001b[0m"
     ]
    }
   ],
   "source": [
    "# use train the model for predicting Ef in MP dataset as an example\n",
    "!python model_train_mp_fm.py"
   ]
  },
  {
   "cell_type": "code",
   "execution_count": null,
   "id": "a2e41a36",
   "metadata": {},
   "outputs": [],
   "source": []
  }
 ],
 "metadata": {
  "kernelspec": {
   "display_name": "Python 3 (ipykernel)",
   "language": "python",
   "name": "python3"
  },
  "language_info": {
   "codemirror_mode": {
    "name": "ipython",
    "version": 3
   },
   "file_extension": ".py",
   "mimetype": "text/x-python",
   "name": "python",
   "nbconvert_exporter": "python",
   "pygments_lexer": "ipython3",
   "version": "3.8.13"
  },
  "toc": {
   "base_numbering": 1,
   "nav_menu": {},
   "number_sections": true,
   "sideBar": true,
   "skip_h1_title": false,
   "title_cell": "Table of Contents",
   "title_sidebar": "Contents",
   "toc_cell": false,
   "toc_position": {},
   "toc_section_display": true,
   "toc_window_display": false
  }
 },
 "nbformat": 4,
 "nbformat_minor": 5
}
